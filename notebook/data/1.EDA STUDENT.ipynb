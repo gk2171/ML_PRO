{
 "cells": [
  {
   "cell_type": "markdown",
   "metadata": {},
   "source": [
    "Student Performance Indicator\n",
    "Life cycle of Machine learning Project\n",
    "Understanding the Problem Statement\n",
    "Data Collection\n",
    "Data Checks to perform\n",
    "Exploratory data analysis\n",
    "Data Pre-Processing\n",
    "Model Training\n",
    "Choose best model\n",
    "\n",
    "\n",
    "1) Problem statement\n",
    "This project understands how the student's performance (test scores) is affected by other variables such as Gender, Ethnicity, Parental level of education, Lunch and Test preparation course.\n",
    "\n",
    "2) Data Collection\n",
    "Dataset Source - https://www.kaggle.com/datasets/spscientist/students-performance-in-exams?datasetId=74977\n",
    "The data consists of 8 column and 1000 rows."
   ]
  },
  {
   "cell_type": "markdown",
   "metadata": {},
   "source": [
    "importing libraries"
   ]
  },
  {
   "cell_type": "markdown",
   "metadata": {},
   "source": []
  },
  {
   "cell_type": "code",
   "execution_count": null,
   "metadata": {},
   "outputs": [
    {
     "ename": "",
     "evalue": "",
     "output_type": "error",
     "traceback": [
      "\u001b[1;31mRunning cells with 'venv (Python 3.10.0)' requires the ipykernel package.\n",
      "\u001b[1;31mRun the following command to install 'ipykernel' into the Python environment. \n",
      "\u001b[1;31mCommand: 'conda install -p c:\\Users\\rithi\\Desktop\\DS_PRO\\Own Pro\\ML projects\\Cyber_intro\\venv ipykernel --update-deps --force-reinstall'"
     ]
    }
   ],
   "source": [
    "import numpy as np\n",
    "import pandas as pd\n",
    "import seaborn as sns\n",
    "import matplotlib.pyplot as plt\n",
    "%matplotlib inline\n",
    "import warnings\n",
    "warnings.filterwarnings('ignore')\n",
    "\n"
   ]
  },
  {
   "cell_type": "code",
   "execution_count": null,
   "metadata": {},
   "outputs": [],
   "source": [
    "df=pd.read_csv('stud.csv')"
   ]
  },
  {
   "cell_type": "code",
   "execution_count": null,
   "metadata": {},
   "outputs": [],
   "source": [
    "df.head()"
   ]
  },
  {
   "cell_type": "code",
   "execution_count": null,
   "metadata": {},
   "outputs": [],
   "source": [
    "df.shape"
   ]
  },
  {
   "cell_type": "markdown",
   "metadata": {},
   "source": [
    "### 2.2 Dataset Information\n",
    "\n",
    "- **gender**: Sex of students → *(Male/Female)*  \n",
    "- **race/ethnicity**: Ethnicity of students → *(Group A, B, C, D, E)*  \n",
    "- **parental level of education**: Parents' final education → *(Bachelor's degree, some college, master's degree, associate's degree, high school)*  \n",
    "- **lunch**: Having lunch before the test → *(Standard or free/reduced)*  \n",
    "- **test preparation course**: Complete or not complete before the test  \n",
    "- **math score**  \n",
    "- **reading score**  \n",
    "- **writing score**\n"
   ]
  },
  {
   "cell_type": "markdown",
   "metadata": {},
   "source": [
    "### 3. DATA Checks to Perform\n",
    "\n",
    "- **Check Missing Values**  \n",
    "- **Check Duplicates**  \n",
    "- **Check Data Types**  \n",
    "- **Check the Number of Unique Values in Each Column**  \n",
    "- **Check Statistics of the Dataset**  \n",
    "- **Check Various Categories Present in Different Categorical Columns**\n"
   ]
  },
  {
   "cell_type": "markdown",
   "metadata": {},
   "source": [
    "3.1 Check missing Values\n"
   ]
  },
  {
   "cell_type": "code",
   "execution_count": null,
   "metadata": {},
   "outputs": [],
   "source": [
    "df.isnull().sum()"
   ]
  },
  {
   "cell_type": "markdown",
   "metadata": {},
   "source": [
    "There are no missing values int he data set\n",
    "\n",
    "\n",
    "3.2 Check Duplicates "
   ]
  },
  {
   "cell_type": "code",
   "execution_count": null,
   "metadata": {},
   "outputs": [],
   "source": [
    "df.duplicated().sum()"
   ]
  },
  {
   "cell_type": "markdown",
   "metadata": {},
   "source": [
    "There are no duplicates values int he data set\n",
    "\n",
    "\n",
    "3.3 Check data types"
   ]
  },
  {
   "cell_type": "code",
   "execution_count": null,
   "metadata": {},
   "outputs": [],
   "source": [
    "#check null and Dtypes\n",
    "df.info()"
   ]
  },
  {
   "cell_type": "markdown",
   "metadata": {},
   "source": [
    "3.4 Checking the number of unique values of each column"
   ]
  },
  {
   "cell_type": "code",
   "execution_count": null,
   "metadata": {},
   "outputs": [],
   "source": [
    "df.nunique()"
   ]
  },
  {
   "cell_type": "markdown",
   "metadata": {},
   "source": [
    "3.5 Check statistics of dataset"
   ]
  },
  {
   "cell_type": "code",
   "execution_count": null,
   "metadata": {},
   "outputs": [],
   "source": [
    "df.describe()"
   ]
  },
  {
   "cell_type": "markdown",
   "metadata": {},
   "source": [
    "\n",
    "Insight\n",
    "-  **From above description of numerical data, all means are very close to each other - between 66 and 68.05;**\n",
    "-   **All standard deviations are also close - between 14.6 and 15.19;**\n",
    "-  **While there is a minimum score 0 for math, for writing minimum is much higher = 10 and for reading myet higher = 17**"
   ]
  },
  {
   "cell_type": "markdown",
   "metadata": {},
   "source": [
    "3.7 Exploring Data"
   ]
  },
  {
   "cell_type": "code",
   "execution_count": null,
   "metadata": {},
   "outputs": [],
   "source": [
    "# List of categorical columns\n",
    "categorical_columns = ['gender', 'race_ethnicity', 'parental_level_of_education', 'lunch','test_preparation_course']\n",
    "\n",
    "# Loop to display unique categories in each column\n",
    "for column in categorical_columns:\n",
    "    print(f\"Categories in '{column}' variable:\", end=\" \")\n",
    "    print(df[column].unique())\n"
   ]
  },
  {
   "cell_type": "code",
   "execution_count": null,
   "metadata": {},
   "outputs": [],
   "source": [
    "# Dictionary to store feature types\n",
    "feature_types = {'Numerical Features': [], 'Categorical Features': []}\n",
    "\n",
    "# Loop to classify columns based on data type\n",
    "for feature in df.columns:\n",
    "    if df[feature].dtype == 'O':  # 'O' indicates object (categorical)\n",
    "        feature_types['Categorical Features'].append(feature)\n",
    "    else:\n",
    "        feature_types['Numerical Features'].append(feature)\n",
    "\n",
    "# Display the results\n",
    "for feature_type, features in feature_types.items():\n",
    "    print(f'We have {len(features)} {feature_type.lower()} : {features}')\n"
   ]
  },
  {
   "cell_type": "code",
   "execution_count": null,
   "metadata": {},
   "outputs": [],
   "source": [
    "df.head(5)"
   ]
  },
  {
   "cell_type": "markdown",
   "metadata": {},
   "source": [
    "3.8 Adding columns for \"total score\" and \"average\"\n",
    "\n"
   ]
  },
  {
   "cell_type": "code",
   "execution_count": null,
   "metadata": {},
   "outputs": [],
   "source": [
    "df['total_score'] = df['math_score'] + df['reading_score'] + df['writing_score']\n",
    "df['average']=df['total_score']/3\n",
    "df.head()"
   ]
  },
  {
   "cell_type": "code",
   "execution_count": null,
   "metadata": {},
   "outputs": [],
   "source": [
    "# List of subjects and corresponding columns\n",
    "subjects = ['math_score', 'writing_score', 'reading_score']\n",
    "full_marks_count = {}\n",
    "\n",
    "# Loop to calculate the number of students with full marks in each subject\n",
    "for subject in subjects:\n",
    "    full_marks_count[subject] = df[df[subject] == 100].shape[0]\n",
    "\n",
    "# Print the results\n",
    "for subject, count in full_marks_count.items():\n",
    "    print(f'Number of students with full marks in {subject.replace(\"_score\", \"\").capitalize()}: {count}')\n"
   ]
  },
  {
   "cell_type": "code",
   "execution_count": null,
   "metadata": {},
   "outputs": [],
   "source": [
    "# List of subjects and corresponding columns\n",
    "subjects = ['math_score', 'writing_score', 'reading_score']\n",
    "less_than_20_count = {}\n",
    "\n",
    "# Loop to calculate the number of students with less than 20 marks in each subject\n",
    "for subject in subjects:\n",
    "    less_than_20_count[subject] = df[df[subject] <= 20].shape[0]\n",
    "\n",
    "# Print the results\n",
    "for subject, count in less_than_20_count.items():\n",
    "    print(f'Number of students with less than 20 marks in {subject.replace(\"_score\", \"\").capitalize()}: {count}')\n"
   ]
  },
  {
   "cell_type": "markdown",
   "metadata": {},
   "source": [
    "Insights\n",
    "-  **From above values we get students have performed the worst in Maths**\n",
    "-  **Best performance is in reading section**"
   ]
  },
  {
   "cell_type": "markdown",
   "metadata": {},
   "source": [
    "4.Exploring Data(Visualization)\n",
    "\n",
    "4.1 Visualize average score distribution to make some conclusion\n",
    "-  **Histogram**\n",
    "- **Kernel Distribution Function(KDE)"
   ]
  },
  {
   "cell_type": "markdown",
   "metadata": {},
   "source": [
    "4.1.1 Histogram & KDE"
   ]
  },
  {
   "cell_type": "code",
   "execution_count": null,
   "metadata": {},
   "outputs": [],
   "source": [
    "\n",
    "fig, axs = plt.subplots(1, 2, figsize=(15, 7))\n",
    "plt.subplot(121)\n",
    "sns.histplot(data=df,x='average',bins=30,kde=True,color='g')\n",
    "plt.subplot(122)\n",
    "sns.histplot(data=df,x='average',kde=True,hue='gender')\n",
    "plt.show()"
   ]
  },
  {
   "cell_type": "code",
   "execution_count": null,
   "metadata": {},
   "outputs": [],
   "source": [
    "fig, axs = plt.subplots(1, 2, figsize=(15, 7))\n",
    "\n",
    "# First plot (total_score distribution with kde)\n",
    "sns.histplot(data=df, x='total_score', bins=30, kde=True, color='g', ax=axs[0])\n",
    "\n",
    "# Second plot (total_score distribution with kde and hue)\n",
    "sns.histplot(data=df, x='total_score', kde=True, hue='gender', ax=axs[1])\n",
    "\n",
    "plt.show()\n"
   ]
  },
  {
   "cell_type": "markdown",
   "metadata": {},
   "source": [
    "\n",
    "Insights\n",
    "-  **Female students tend to perform well then male students.**"
   ]
  },
  {
   "cell_type": "code",
   "execution_count": null,
   "metadata": {},
   "outputs": [],
   "source": [
    "plt.subplots(1,3,figsize=(25,6))\n",
    "plt.subplot(141)\n",
    "sns.histplot(data=df,x='average',kde=True,hue='lunch')\n",
    "plt.subplot(142)\n",
    "sns.histplot(data=df[df.gender=='female'],x='average',kde=True,hue='lunch')\n",
    "plt.subplot(143)\n",
    "sns.histplot(data=df[df.gender=='male'],x='average',kde=True,hue='lunch')\n",
    "plt.show()"
   ]
  },
  {
   "cell_type": "markdown",
   "metadata": {},
   "source": [
    "\n",
    "Insights\n",
    "-  **Standard lunch helps perform well in exams.**\n",
    "-  **Standard lunch helps perform well in exams be it a male or a female.**"
   ]
  },
  {
   "cell_type": "code",
   "execution_count": null,
   "metadata": {},
   "outputs": [],
   "source": [
    "import matplotlib.pyplot as plt\n",
    "import seaborn as sns\n",
    "\n",
    "# Set the figure size and create subplots\n",
    "fig, axs = plt.subplots(1, 3, figsize=(25, 6))\n",
    "\n",
    "# First subplot (all students)\n",
    "sns.histplot(data=df, x='average', kde=True, hue='parental_level_of_education', ax=axs[0])\n",
    "\n",
    "# Second subplot (male students)\n",
    "sns.histplot(data=df[df['gender'] == 'male'], x='average', kde=True, hue='parental_level_of_education', ax=axs[1])\n",
    "\n",
    "# Third subplot (female students)\n",
    "sns.histplot(data=df[df['gender'] == 'female'], x='average', kde=True, hue='parental_level_of_education', ax=axs[2])\n",
    "\n",
    "# Show the plots\n",
    "plt.show()\n"
   ]
  },
  {
   "cell_type": "markdown",
   "metadata": {},
   "source": [
    "\n",
    "Insights\n",
    "-  **In general parent's education don't help student perform well in exam.**\n",
    "-  **2nd plot shows that parent's whose education is of associate's degree or master's degree their male child tend to perform well in exam**\n",
    "-  **3rd plot we can see there is no effect of parent's education on female students**"
   ]
  },
  {
   "cell_type": "code",
   "execution_count": null,
   "metadata": {},
   "outputs": [],
   "source": [
    "import matplotlib.pyplot as plt\n",
    "import seaborn as sns\n",
    "\n",
    "\n",
    "# Set up the figure with 1 row and 3 columns of subplots\n",
    "plt.subplots(1, 3, figsize=(25, 6))\n",
    "\n",
    "# First subplot: All students\n",
    "plt.subplot(131)\n",
    "ax = sns.histplot(data=df, x='average', kde=True, hue='race_ethnicity')\n",
    "\n",
    "# Second subplot: Female students\n",
    "plt.subplot(132)\n",
    "ax = sns.histplot(data=df[df['gender'] == 'female'], x='average', kde=True, hue='race_ethnicity')\n",
    "\n",
    "# Third subplot: Male students\n",
    "plt.subplot(133)\n",
    "ax = sns.histplot(data=df[df['gender'] == 'male'], x='average', kde=True, hue='race_ethnicity')\n",
    "\n",
    "# Show the plots\n",
    "plt.show()\n"
   ]
  },
  {
   "cell_type": "markdown",
   "metadata": {},
   "source": [
    "\n",
    "Insights\n",
    "-  **Students of group A and group B tends to perform poorly in exam.**\n",
    "-  **Students of group A and group B tends to perform poorly in exam irrespective of whether they are male or female**"
   ]
  },
  {
   "cell_type": "code",
   "execution_count": null,
   "metadata": {},
   "outputs": [],
   "source": [
    "import matplotlib.pyplot as plt\n",
    "import seaborn as sns\n",
    "\n",
    "# Create a figure with a 1-row, 3-column subplot grid\n",
    "plt.figure(figsize=(18, 8))\n",
    "\n",
    "# First subplot: Math scores\n",
    "plt.subplot(1, 3, 1)\n",
    "plt.title('MATH SCORES')\n",
    "sns.violinplot(y='math_score', data=df, color='red', linewidth=3)\n",
    "\n",
    "# Second subplot: Reading scores\n",
    "plt.subplot(1, 3, 2)\n",
    "plt.title('READING SCORES')\n",
    "sns.violinplot(y='reading_score', data=df, color='green', linewidth=3)\n",
    "\n",
    "# Third subplot: Writing scores\n",
    "plt.subplot(1, 3, 3)\n",
    "plt.title('WRITING SCORES')\n",
    "sns.violinplot(y='writing_score', data=df, color='blue', linewidth=3)\n",
    "\n",
    "# Display the plots\n",
    "plt.show()\n"
   ]
  },
  {
   "cell_type": "markdown",
   "metadata": {},
   "source": [
    "Insights\n",
    "-  **From the above three plots its clearly visible that most of the students score in between 60-80 in Maths whereas in reading and writing most of them score from 50-80**"
   ]
  },
  {
   "cell_type": "markdown",
   "metadata": {},
   "source": [
    "4.2 Maximum score of studets in three subjects"
   ]
  },
  {
   "cell_type": "code",
   "execution_count": null,
   "metadata": {},
   "outputs": [],
   "source": [
    "import matplotlib.pyplot as plt\n",
    "import seaborn as sns\n",
    "\n",
    "# Define the scores and their respective colors\n",
    "scores = [\n",
    "    ('math_score', 'red', 'MATH_SCORES'),\n",
    "    ('reading_score', 'green', 'READING_SCORES'),\n",
    "    ('writing_score', 'blue', 'WRITING_SCORES')\n",
    "]\n",
    "\n",
    "# Set the overall figure size\n",
    "plt.figure(figsize=(18, 8))\n",
    "\n",
    "# Loop through each score to create subplots\n",
    "for i, (score, color, title) in enumerate(scores, 1):\n",
    "    plt.subplot(1, 3, i)\n",
    "    plt.title(title)\n",
    "    sns.violinplot(y=score, data=df, color=color, linewidth=3)\n",
    "    plt.axis('off')# to delete th empty graph\n",
    "# Adjust layout and show the plot\n",
    "plt.tight_layout()\n",
    "plt.show()\n"
   ]
  },
  {
   "cell_type": "code",
   "execution_count": null,
   "metadata": {},
   "outputs": [],
   "source": [
    "plt.figure(figsize=(18,8))\n",
    "plt.subplot(1, 4, 1)\n",
    "plt.title('MATH_SCORES')\n",
    "sns.violinplot(y='math_score',data=df,color='red',linewidth=3)\n",
    "plt.subplot(1, 4, 2)\n",
    "plt.title('READING_SCORES')\n",
    "sns.violinplot(y='reading_score',data=df,color='green',linewidth=3)\n",
    "plt.subplot(1, 4, 3)\n",
    "plt.title('WRITING_SCORES')\n",
    "sns.violinplot(y='writing_score',data=df,color='blue',linewidth=3)\n",
    "plt.show()"
   ]
  },
  {
   "cell_type": "markdown",
   "metadata": {},
   "source": [
    "Insights\n",
    "-  **From the above three plots its clearly visible that most of the students score in between 60-80 in Maths whereas in reading and writing most of them score from 50-80**"
   ]
  },
  {
   "cell_type": "markdown",
   "metadata": {},
   "source": [
    "4.3 Multivariate analysis using pipelot"
   ]
  },
  {
   "cell_type": "code",
   "execution_count": null,
   "metadata": {},
   "outputs": [],
   "source": [
    "import matplotlib.pyplot as plt\n",
    "import seaborn as sns\n",
    "\n",
    "# Create a figure with a 1-row, 3-column subplot grid\n",
    "plt.figure(figsize=(18, 8))\n",
    "\n",
    "# First subplot: Math scores\n",
    "plt.subplot(1, 3, 1)\n",
    "plt.title('MATH SCORES')\n",
    "sns.violinplot(y='math_score', data=df, color='red', linewidth=3)\n",
    "\n",
    "# Second subplot: Reading scores\n",
    "plt.subplot(1, 3, 2)\n",
    "plt.title('READING SCORES')\n",
    "sns.violinplot(y='reading_score', data=df, color='green', linewidth=3)\n",
    "\n",
    "# Third subplot: Writing scores\n",
    "plt.subplot(1, 3, 3)\n",
    "plt.title('WRITING SCORES')\n",
    "sns.violinplot(y='writing_score', data=df, color='blue', linewidth=3)\n",
    "\n",
    "# Display the plots\n",
    "plt.show()\n"
   ]
  },
  {
   "cell_type": "code",
   "execution_count": null,
   "metadata": {},
   "outputs": [],
   "source": [
    "plt.rcParams['figure.figsize'] = (30, 12)\n",
    "\n",
    "# Subplot 1: Gender\n",
    "plt.subplot(1, 5, 1)\n",
    "size = df['gender'].value_counts()\n",
    "labels = size.index  # Automatically fetch unique labels\n",
    "colors = ['red', 'green']\n",
    "plt.pie(size, colors=colors, labels=labels, autopct='%1.1f%%', startangle=90)\n",
    "plt.title('Gender', fontsize=20)\n",
    "plt.axis('off')\n",
    "\n",
    "# Subplot 2: Race_Ethnicity\n",
    "plt.subplot(1, 5, 2)\n",
    "size = df['race_ethnicity'].value_counts()\n",
    "labels = size.index\n",
    "colors = plt.cm.Set3.colors[:len(labels)]\n",
    "plt.pie(size, colors=colors, labels=labels, autopct='%1.1f%%', startangle=90)\n",
    "plt.title('Race_Ethnicity', fontsize=20)\n",
    "plt.axis('off')\n",
    "\n",
    "# Subplot 3: Lunch\n",
    "plt.subplot(1, 5, 3)\n",
    "size = df['lunch'].value_counts()\n",
    "labels = size.index\n",
    "colors = ['red', 'green']\n",
    "plt.pie(size, colors=colors, labels=labels, autopct='%1.1f%%', startangle=90)\n",
    "plt.title('Lunch', fontsize=20)\n",
    "plt.axis('off')\n",
    "\n",
    "# Subplot 4: Test_Preparation_Course\n",
    "plt.subplot(1, 5, 4)\n",
    "size = df['test_preparation_course'].value_counts()\n",
    "labels = size.index\n",
    "colors = ['red', 'green']\n",
    "plt.pie(size, colors=colors, labels=labels, autopct='%1.1f%%', startangle=90)\n",
    "plt.title('Test Course', fontsize=20)\n",
    "plt.axis('off')\n",
    "\n",
    "# Subplot 5: Parental_Level_of_Education\n",
    "plt.subplot(1, 5, 5)\n",
    "size = df['parental_level_of_education'].value_counts()\n",
    "labels = size.index\n",
    "colors = plt.cm.Set3.colors[:len(labels)]\n",
    "plt.pie(size, colors=colors, labels=labels, autopct='%1.1f%%', startangle=90)\n",
    "plt.title('Parental_Education', fontsize=20)\n",
    "plt.axis('off')\n",
    "\n",
    "# Adjust layout and show plot\n",
    "plt.tight_layout()\n",
    "plt.show()\n"
   ]
  },
  {
   "cell_type": "markdown",
   "metadata": {},
   "source": [
    "loop the above code"
   ]
  },
  {
   "cell_type": "code",
   "execution_count": null,
   "metadata": {},
   "outputs": [],
   "source": [
    "import matplotlib.pyplot as plt\n",
    "\n",
    "# Define the columns to plot and their specific colors\n",
    "columns = [\n",
    "    ('gender', ['red', 'green']),\n",
    "    ('race_ethnicity', plt.cm.Set3.colors),\n",
    "    ('lunch', ['red', 'green']),\n",
    "    ('test_preparation_course', ['red', 'green']),\n",
    "    ('parental_level_of_education', plt.cm.Set3.colors)\n",
    "]\n",
    "\n",
    "# Set the overall figure size\n",
    "plt.rcParams['figure.figsize'] = (30, 12)\n",
    "\n",
    "# Loop through each column to create subplots\n",
    "for i, (column, colors) in enumerate(columns, 1):\n",
    "    plt.figure(figsize=(6, 6))  # Create a separate figure for each chart\n",
    "    size = df[column].value_counts()\n",
    "    labels = size.index\n",
    "    \n",
    "    # Adjust color length to match number of unique labels\n",
    "    color_selection = colors[:len(labels)] if len(colors) > len(labels) else colors\n",
    "    \n",
    "    plt.pie(size, colors=color_selection, labels=labels, autopct='%1.1f%%', startangle=90)\n",
    "    plt.title(column.replace('_', ' ').title(), fontsize=20)\n",
    "    plt.axis('off')\n",
    "\n",
    "# Show all the plots\n",
    "plt.show()\n"
   ]
  },
  {
   "cell_type": "markdown",
   "metadata": {},
   "source": [
    "\n",
    "Insights\n",
    "-  **Number of Male and Female students is almost equal**\n",
    "-  **Number students are greatest in Group C**\n",
    "-  **Number of students who have standard lunch are greater**\n",
    "- **Number of students who have not enrolled in any test preparation course is greater**\n",
    "-  **Number of students whose parental education is \"Some College\" is greater followed closely by \"Associate's Degree\"**"
   ]
  },
  {
   "cell_type": "markdown",
   "metadata": {},
   "source": [
    "4.4 Feature wise visualization\n",
    "\n",
    "4.4.1 Gender column\n",
    "-  **How is distribution of gender**\n",
    "-  **Is gender has any impact on student's Performance**\n",
    "\n"
   ]
  },
  {
   "cell_type": "markdown",
   "metadata": {},
   "source": [
    "Univariate Analysis(how is distribution of Gender?)"
   ]
  },
  {
   "cell_type": "code",
   "execution_count": null,
   "metadata": {},
   "outputs": [],
   "source": [
    "f,ax=plt.subplots(1,2,figsize=(20,10))\n",
    "sns.countplot(x=df['gender'],data=df,palette ='bright',ax=ax[0],saturation=0.95)\n",
    "for container in ax[0].containers:\n",
    "    ax[0].bar_label(container,color='black',size=20)\n",
    "    \n",
    "plt.pie(x=df['gender'].value_counts(),labels=['Male','Female'],explode=[0,0.1],autopct='%1.1f%%',shadow=True,colors=['#ff4d4d','#ff8000'])\n",
    "plt.show()"
   ]
  },
  {
   "cell_type": "code",
   "execution_count": null,
   "metadata": {},
   "outputs": [],
   "source": []
  }
 ],
 "metadata": {
  "kernelspec": {
   "display_name": "Python 3",
   "language": "python",
   "name": "python3"
  },
  "language_info": {
   "codemirror_mode": {
    "name": "ipython",
    "version": 3
   },
   "file_extension": ".py",
   "mimetype": "text/x-python",
   "name": "python",
   "nbconvert_exporter": "python",
   "pygments_lexer": "ipython3",
   "version": "3.10.0"
  }
 },
 "nbformat": 4,
 "nbformat_minor": 2
}
